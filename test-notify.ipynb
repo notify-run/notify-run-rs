{
 "cells": [
  {
   "cell_type": "code",
   "execution_count": null,
   "id": "21b4cd2a",
   "metadata": {},
   "outputs": [],
   "source": [
    "from notify_run import Notify"
   ]
  },
  {
   "cell_type": "code",
   "execution_count": null,
   "id": "7945e882",
   "metadata": {},
   "outputs": [],
   "source": [
    "notify = Notify(api_server=\"https://notify.ngrok.io/\")"
   ]
  },
  {
   "cell_type": "code",
   "execution_count": null,
   "id": "e3485363",
   "metadata": {},
   "outputs": [],
   "source": [
    "notify.register()"
   ]
  },
  {
   "cell_type": "code",
   "execution_count": null,
   "id": "e88f54bc",
   "metadata": {},
   "outputs": [],
   "source": [
    "notify.__dict__"
   ]
  },
  {
   "cell_type": "code",
   "execution_count": null,
   "id": "0efe9cc3",
   "metadata": {},
   "outputs": [],
   "source": [
    "notify.send('ok4', 'https://google.com/')"
   ]
  }
 ],
 "metadata": {
  "kernelspec": {
   "display_name": "Python 3 (ipykernel)",
   "language": "python",
   "name": "python3"
  },
  "language_info": {
   "codemirror_mode": {
    "name": "ipython",
    "version": 3
   },
   "file_extension": ".py",
   "mimetype": "text/x-python",
   "name": "python",
   "nbconvert_exporter": "python",
   "pygments_lexer": "ipython3",
   "version": "3.8.5"
  }
 },
 "nbformat": 4,
 "nbformat_minor": 5
}
